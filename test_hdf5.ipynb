{
 "cells": [
  {
   "cell_type": "code",
   "execution_count": 7,
   "id": "23e0a1ec-c89a-443f-ad0d-a6c61a2eee88",
   "metadata": {},
   "outputs": [],
   "source": [
    "# посібник https://github.com/HDFGroup/hdf5-tutorial/blob/main/04-Python-Bliss.ipynb\n",
    "\n",
    "import h5py\n",
    "import numpy as np"
   ]
  },
  {
   "cell_type": "code",
   "execution_count": 3,
   "id": "be1de12f-40de-4719-bdae-e0850d9720cd",
   "metadata": {},
   "outputs": [],
   "source": [
    "file_path = '3B-HHR-E.MS.MRG.3IMERG.20210523-S040000-E042959.0240.V07B.RT-H5'\n",
    "hdf5_file = h5py.File(file_path, 'r')"
   ]
  },
  {
   "cell_type": "code",
   "execution_count": 46,
   "id": "222bbfc8-0900-4ac9-8419-db19be65b0de",
   "metadata": {},
   "outputs": [
    {
     "name": "stdout",
     "output_type": "stream",
     "text": [
      "Grid\n",
      "    GridHeader: b'BinMethod=ARITHMETIC_MEAN;\\nRegistration=CENTER;\\nLatitudeResolution=0.1;\\nLongitudeResolution=0.1;\\nNorthBoundingCoordinate=90;\\nSouthBoundingCoordinate=-90;\\nEastBoundingCoordinate=180;\\nWestBoundingCoordinate=-180;\\nOrigin=SOUTHWEST;\\n'\n",
      "Grid/Intermediate\n",
      "Grid/Intermediate/IRinfluence\n",
      "    DimensionNames: b'time,lon,lat'\n",
      "    coordinates: b'time lon lat'\n",
      "    _FillValue: -9999\n",
      "    CodeMissingValue: b'-9999'\n",
      "    LongName: b'\\nRelative influence of infrared precipitation in the merged\\n                        microwave-infrared precipitation estimate\\n'\n",
      "    DIMENSION_LIST: [array([<HDF5 object reference>], dtype=object)\n",
      " array([<HDF5 object reference>], dtype=object)\n",
      " array([<HDF5 object reference>], dtype=object)]\n",
      "Grid/Intermediate/IRprecipitation\n",
      "    DimensionNames: b'time,lon,lat'\n",
      "    Units: b'mm/hr'\n",
      "    units: b'mm/hr'\n",
      "    coordinates: b'time lon lat'\n",
      "    _FillValue: -9999.900390625\n",
      "    CodeMissingValue: b'-9999.9'\n",
      "    LongName: b'Infrared precipitation estimate'\n",
      "    DIMENSION_LIST: [array([<HDF5 object reference>], dtype=object)\n",
      " array([<HDF5 object reference>], dtype=object)\n",
      " array([<HDF5 object reference>], dtype=object)]\n",
      "Grid/Intermediate/MWobservationTime\n",
      "    DimensionNames: b'time,lon,lat'\n",
      "    Units: b'minutes'\n",
      "    units: b'minutes'\n",
      "    coordinates: b'time lon lat'\n",
      "    _FillValue: -9999\n",
      "    CodeMissingValue: b'-9999'\n",
      "    LongName: b'\\nObserved merged microwave observation time after\\n                        dataset start time;  formerly HQobservationTime\\n'\n",
      "    DIMENSION_LIST: [array([<HDF5 object reference>], dtype=object)\n",
      " array([<HDF5 object reference>], dtype=object)\n",
      " array([<HDF5 object reference>], dtype=object)]\n",
      "Grid/Intermediate/MWprecipSource\n",
      "    DimensionNames: b'time,lon,lat'\n",
      "    coordinates: b'time lon lat'\n",
      "    _FillValue: -9999\n",
      "    CodeMissingValue: b'-9999'\n",
      "    LongName: b'Observed merged microwave satellite source;\\n                        formerly HQprecipSource'\n",
      "    DIMENSION_LIST: [array([<HDF5 object reference>], dtype=object)\n",
      " array([<HDF5 object reference>], dtype=object)\n",
      " array([<HDF5 object reference>], dtype=object)]\n",
      "Grid/Intermediate/MWprecipitation\n",
      "    DimensionNames: b'time,lon,lat'\n",
      "    Units: b'mm/hr'\n",
      "    units: b'mm/hr'\n",
      "    coordinates: b'time lon lat'\n",
      "    _FillValue: -9999.900390625\n",
      "    CodeMissingValue: b'-9999.9'\n",
      "    LongName: b'Observed merged microwave precipitation estimate;\\n                        formerly HQprecipitation'\n",
      "    DIMENSION_LIST: [array([<HDF5 object reference>], dtype=object)\n",
      " array([<HDF5 object reference>], dtype=object)\n",
      " array([<HDF5 object reference>], dtype=object)]\n",
      "Grid/Intermediate/precipitationUncal\n",
      "    DimensionNames: b'time,lon,lat'\n",
      "    Units: b'mm/hr'\n",
      "    units: b'mm/hr'\n",
      "    coordinates: b'time lon lat'\n",
      "    _FillValue: -9999.900390625\n",
      "    CodeMissingValue: b'-9999.9'\n",
      "    LongName: b'Merged microwave-infrared \\n                        precipitation estimate'\n",
      "    DIMENSION_LIST: [array([<HDF5 object reference>], dtype=object)\n",
      " array([<HDF5 object reference>], dtype=object)\n",
      " array([<HDF5 object reference>], dtype=object)]\n",
      "Grid/lat\n",
      "    DimensionNames: b'lat'\n",
      "    Units: b'degrees_north'\n",
      "    units: b'degrees_north'\n",
      "    standard_name: b'latitude'\n",
      "    LongName: b'Latitude at the center of\\n\\t\\t\\t0.10 degree grid intervals of latitude\\n\\t\\t\\tfrom -90 to 90.'\n",
      "    bounds: b'lat_bnds'\n",
      "    axis: b'Y'\n",
      "    CLASS: b'DIMENSION_SCALE'\n",
      "    REFERENCE_LIST: [(<HDF5 object reference>, 2) (<HDF5 object reference>, 2)\n",
      " (<HDF5 object reference>, 2) (<HDF5 object reference>, 2)\n",
      " (<HDF5 object reference>, 2) (<HDF5 object reference>, 2)\n",
      " (<HDF5 object reference>, 0) (<HDF5 object reference>, 2)\n",
      " (<HDF5 object reference>, 2) (<HDF5 object reference>, 2)\n",
      " (<HDF5 object reference>, 2)]\n",
      "Grid/lat_bnds\n",
      "    DimensionNames: b'lat,latv'\n",
      "    Units: b'degrees_north'\n",
      "    units: b'degrees_north'\n",
      "    coordinates: b'lat latv'\n",
      "    DIMENSION_LIST: [array([<HDF5 object reference>], dtype=object)\n",
      " array([<HDF5 object reference>], dtype=object)]\n",
      "Grid/latv\n",
      "    DimensionNames: b'latv'\n",
      "    standard_name: b'numberlatbnds'\n",
      "    LongName: b'Number of latitude bounds.'\n",
      "    CLASS: b'DIMENSION_SCALE'\n",
      "    NAME: b'This is a netCDF dimension but not a netCDF variable.         2'\n",
      "    REFERENCE_LIST: [(<HDF5 object reference>, 1)]\n",
      "Grid/lon\n",
      "    DimensionNames: b'lon'\n",
      "    Units: b'degrees_east'\n",
      "    units: b'degrees_east'\n",
      "    standard_name: b'longitude'\n",
      "    LongName: b'Longitude at the center of\\n\\t\\t\\t0.10 degree grid intervals of longitude \\n\\t\\t\\tfrom -180 to 180.'\n",
      "    bounds: b'lon_bnds'\n",
      "    axis: b'X'\n",
      "    CLASS: b'DIMENSION_SCALE'\n",
      "    REFERENCE_LIST: [(<HDF5 object reference>, 1) (<HDF5 object reference>, 1)\n",
      " (<HDF5 object reference>, 1) (<HDF5 object reference>, 1)\n",
      " (<HDF5 object reference>, 1) (<HDF5 object reference>, 1)\n",
      " (<HDF5 object reference>, 0) (<HDF5 object reference>, 1)\n",
      " (<HDF5 object reference>, 1) (<HDF5 object reference>, 1)\n",
      " (<HDF5 object reference>, 1)]\n",
      "Grid/lon_bnds\n",
      "    DimensionNames: b'lon,lonv'\n",
      "    Units: b'degrees_east'\n",
      "    units: b'degrees_east'\n",
      "    coordinates: b'lon lonv'\n",
      "    DIMENSION_LIST: [array([<HDF5 object reference>], dtype=object)\n",
      " array([<HDF5 object reference>], dtype=object)]\n",
      "Grid/lonv\n",
      "    DimensionNames: b'lonv'\n",
      "    standard_name: b'numberlonbnds'\n",
      "    LongName: b'Number of longitude bounds.'\n",
      "    CLASS: b'DIMENSION_SCALE'\n",
      "    NAME: b'This is a netCDF dimension but not a netCDF variable.         2'\n",
      "    REFERENCE_LIST: [(<HDF5 object reference>, 1)]\n",
      "Grid/nv\n",
      "    DimensionNames: b'nv'\n",
      "    standard_name: b'numbertimebnds'\n",
      "    LongName: b'Number of time bounds.'\n",
      "    CLASS: b'DIMENSION_SCALE'\n",
      "    NAME: b'This is a netCDF dimension but not a netCDF variable.         2'\n",
      "    REFERENCE_LIST: [(<HDF5 object reference>, 1)]\n",
      "Grid/precipitation\n",
      "    DimensionNames: b'time,lon,lat'\n",
      "    Units: b'mm/hr'\n",
      "    units: b'mm/hr'\n",
      "    coordinates: b'time lon lat'\n",
      "    _FillValue: -9999.900390625\n",
      "    CodeMissingValue: b'-9999.9'\n",
      "    LongName: b'\\nComplete merged microwave-infrared (gauge-adjusted)\\n                        precipitation estimate;  formerly precipitationCal\\n'\n",
      "    DIMENSION_LIST: [array([<HDF5 object reference>], dtype=object)\n",
      " array([<HDF5 object reference>], dtype=object)\n",
      " array([<HDF5 object reference>], dtype=object)]\n",
      "Grid/precipitationQualityIndex\n",
      "    DimensionNames: b'time,lon,lat'\n",
      "    coordinates: b'time lon lat'\n",
      "    _FillValue: -9999.900390625\n",
      "    CodeMissingValue: b'-9999.9'\n",
      "    LongName: b'\\nPrecipitation quality index; qualitative indicator\\n                        of skill based on the microwave-infrared merging process\\n'\n",
      "    DIMENSION_LIST: [array([<HDF5 object reference>], dtype=object)\n",
      " array([<HDF5 object reference>], dtype=object)\n",
      " array([<HDF5 object reference>], dtype=object)]\n",
      "Grid/probabilityLiquidPrecipitation\n",
      "    DimensionNames: b'time,lon,lat'\n",
      "    Units: b'percent'\n",
      "    units: b'percent'\n",
      "    coordinates: b'time lon lat'\n",
      "    _FillValue: -9999\n",
      "    CodeMissingValue: b'-9999'\n",
      "    LongName: b'\\nProbability of liquid precipitation;  estimated with\\n                        a diagnostic parameterization using ancillary data\\n'\n",
      "    DIMENSION_LIST: [array([<HDF5 object reference>], dtype=object)\n",
      " array([<HDF5 object reference>], dtype=object)\n",
      " array([<HDF5 object reference>], dtype=object)]\n",
      "Grid/randomError\n",
      "    DimensionNames: b'time,lon,lat'\n",
      "    Units: b'mm/hr'\n",
      "    units: b'mm/hr'\n",
      "    coordinates: b'time lon lat'\n",
      "    _FillValue: -9999.900390625\n",
      "    CodeMissingValue: b'-9999.9'\n",
      "    LongName: b'\\nRoot-mean-square error estimate for \\n                        complete merged microwave-infrared (gauge-adjusted)\\n                        precipitation\\n'\n",
      "    DIMENSION_LIST: [array([<HDF5 object reference>], dtype=object)\n",
      " array([<HDF5 object reference>], dtype=object)\n",
      " array([<HDF5 object reference>], dtype=object)]\n",
      "Grid/time\n",
      "    DimensionNames: b'time'\n",
      "    Units: b'seconds since 1980-01-06 00:00:00 UTC'\n",
      "    units: b'seconds since 1980-01-06 00:00:00 UTC'\n",
      "    standard_name: b'time'\n",
      "    LongName: b'\\nRepresentative time of data in \\n\\t\\t\\tseconds since 1980-01-06 00:00:00 UTC.\\n\\t\\t\\tThe calculation of time does not add leap seconds.\\n\\t\\t\\tThe difference due to leap seconds grows with time \\n\\t\\t\\tand in 2019 is less than 30 seconds.\\n'\n",
      "    bounds: b'time_bnds'\n",
      "    axis: b'T'\n",
      "    calendar: b'julian'\n",
      "    CLASS: b'DIMENSION_SCALE'\n",
      "    REFERENCE_LIST: [(<HDF5 object reference>, 0) (<HDF5 object reference>, 0)\n",
      " (<HDF5 object reference>, 0) (<HDF5 object reference>, 0)\n",
      " (<HDF5 object reference>, 0) (<HDF5 object reference>, 0)\n",
      " (<HDF5 object reference>, 0) (<HDF5 object reference>, 0)\n",
      " (<HDF5 object reference>, 0) (<HDF5 object reference>, 0)\n",
      " (<HDF5 object reference>, 0)]\n",
      "Grid/time_bnds\n",
      "    DimensionNames: b'time,nv'\n",
      "    Units: b'seconds since 1980-01-06 00:00:00 UTC'\n",
      "    units: b'seconds since 1980-01-06 00:00:00 UTC'\n",
      "    coordinates: b'time nv'\n",
      "    DIMENSION_LIST: [array([<HDF5 object reference>], dtype=object)\n",
      " array([<HDF5 object reference>], dtype=object)]\n"
     ]
    }
   ],
   "source": [
    "def print_attrs(name, obj):\n",
    "    print(name)\n",
    "    for key, val in obj.attrs.items():\n",
    "        print(f\"    {key}: {val}\")\n",
    "\n",
    "hdf5_file.visititems(print_attrs)"
   ]
  },
  {
   "cell_type": "code",
   "execution_count": 61,
   "id": "09561a2f-ae71-4999-9a0a-ffab332d5c55",
   "metadata": {},
   "outputs": [
    {
     "name": "stdout",
     "output_type": "stream",
     "text": [
      "Latitude shape: (1800,)\n",
      "Latitude type: float32\n",
      "Longitude shape: (3600,)\n",
      "Longitude type: float32\n",
      "Precipitation shape: (1, 3600, 1800)\n",
      "Precipitation type: float32\n",
      "Time shape: (1,)\n",
      "Time type: int32\n"
     ]
    }
   ],
   "source": [
    "# Retrieve latitude and longitude arrays\n",
    "lats = hdf5_file['Grid/lat'][:]\n",
    "lons = hdf5_file['Grid/lon'][:]\n",
    "precip = hdf5_file['Grid/precipitation'][:]\n",
    "time = hdf5_file['Grid/time'][:]\n",
    "\n",
    "print(f\"Latitude shape: {lats.shape}\")\n",
    "print(f\"Latitude type: {lats.dtype}\")\n",
    "\n",
    "print(f\"Longitude shape: {lons.shape}\")\n",
    "print(f\"Longitude type: {lons.dtype}\")\n",
    "\n",
    "\n",
    "print(f\"Precipitation shape: {precip.shape}\")\n",
    "print(f\"Precipitation type: {precip.dtype}\")\n",
    "\n",
    "print(f\"Time shape: {time.shape}\")\n",
    "print(f\"Time type: {time.dtype}\")"
   ]
  },
  {
   "cell_type": "code",
   "execution_count": 45,
   "id": "848abf35-6417-48e0-b404-40feb4902b67",
   "metadata": {},
   "outputs": [
    {
     "data": {
      "text/plain": [
       "['Grid']"
      ]
     },
     "execution_count": 45,
     "metadata": {},
     "output_type": "execute_result"
    }
   ],
   "source": [
    "#подивитись які групи наявні у файлі\n",
    "list(hdf5_file.keys())"
   ]
  },
  {
   "cell_type": "code",
   "execution_count": 44,
   "id": "5f0c4874-7f0c-4702-aaf3-558e95b19b30",
   "metadata": {},
   "outputs": [
    {
     "data": {
      "text/plain": [
       "['DimensionNames',\n",
       " 'Units',\n",
       " 'units',\n",
       " 'coordinates',\n",
       " '_FillValue',\n",
       " 'CodeMissingValue',\n",
       " 'LongName',\n",
       " 'DIMENSION_LIST']"
      ]
     },
     "execution_count": 44,
     "metadata": {},
     "output_type": "execute_result"
    }
   ],
   "source": [
    "dset = hdf5_file[\"Grid/precipitation\"]\n",
    "\n",
    "#перегляд атрибутів\n",
    "list(dset.attrs.keys())"
   ]
  },
  {
   "cell_type": "code",
   "execution_count": 38,
   "id": "0535b133-8f74-43c6-b928-1b948754e2ea",
   "metadata": {},
   "outputs": [
    {
     "data": {
      "text/plain": [
       "['Grid']"
      ]
     },
     "execution_count": 38,
     "metadata": {},
     "output_type": "execute_result"
    }
   ],
   "source": [
    "#перелік атрибутів, через items - ключ значення\n",
    "list(dset.attrs.items())\n"
   ]
  },
  {
   "cell_type": "code",
   "execution_count": 60,
   "id": "bf2726c8-3385-47b6-8aa3-6cc7b9dd23d5",
   "metadata": {},
   "outputs": [
    {
     "name": "stdout",
     "output_type": "stream",
     "text": [
      "Nearest latitude index: 1412\n",
      "Nearest longitude index: 2102\n"
     ]
    }
   ],
   "source": [
    "# Retrieve indices by value in a 1-dimensional array (latitude and longitude)\n",
    "lats = hdf5_file['Grid/lat'][:]\n",
    "lons = hdf5_file['Grid/lon'][:]\n",
    "\n",
    "target_lat = 51.28  # Replace with your target latitude\n",
    "target_lon = 30.23  # Replace with your target longitude\n",
    "\n",
    "lat_idx = (np.abs(lats - target_lat)).argmin()\n",
    "lon_idx = (np.abs(lons - target_lon)).argmin()\n",
    "\n",
    "print(f\"Nearest latitude index: {lat_idx}\")\n",
    "print(f\"Nearest longitude index: {lon_idx}\")\n"
   ]
  },
  {
   "cell_type": "code",
   "execution_count": 58,
   "id": "9b18d3e2-dbb6-440d-8aad-1b67f5bbdeba",
   "metadata": {},
   "outputs": [
    {
     "name": "stdout",
     "output_type": "stream",
     "text": [
      "Value at indices [0, 1412, 2102]: 0.0\n"
     ]
    }
   ],
   "source": [
    "# Define the indices for the value you want to retrieve\n",
    "time_index = 0  # Replace with the actual time index\n",
    "#lat_index = 100  # Replace with the actual latitude index\n",
    "#lon_index = 200  # Replace with the actual longitude index\n",
    "\n",
    "# Retrieve the value from the dataset using the indices\n",
    "value = dset[time_index, lon_idx, lat_idx]\n",
    "print(f\"Value at indices [{time_index}, {lat_idx}, {lon_idx}]: {value}\")"
   ]
  },
  {
   "cell_type": "code",
   "execution_count": 40,
   "id": "ede6abe2-8744-4958-a504-4486d7f80d0e",
   "metadata": {},
   "outputs": [
    {
     "data": {
      "text/plain": [
       "<h5py.h5f.FileID at 0x7fba8abe0360>"
      ]
     },
     "execution_count": 40,
     "metadata": {},
     "output_type": "execute_result"
    }
   ],
   "source": []
  }
 ],
 "metadata": {
  "kernelspec": {
   "display_name": "Python 3 (ipykernel)",
   "language": "python",
   "name": "python3"
  },
  "language_info": {
   "codemirror_mode": {
    "name": "ipython",
    "version": 3
   },
   "file_extension": ".py",
   "mimetype": "text/x-python",
   "name": "python",
   "nbconvert_exporter": "python",
   "pygments_lexer": "ipython3",
   "version": "3.11.7"
  }
 },
 "nbformat": 4,
 "nbformat_minor": 5
}
